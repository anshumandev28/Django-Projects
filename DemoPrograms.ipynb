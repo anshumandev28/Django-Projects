{
 "cells": [
  {
   "cell_type": "code",
   "execution_count": 1,
   "id": "cca98c0a",
   "metadata": {},
   "outputs": [
    {
     "data": {
      "text/plain": [
       "18"
      ]
     },
     "execution_count": 1,
     "metadata": {},
     "output_type": "execute_result"
    }
   ],
   "source": [
    "6*3"
   ]
  },
  {
   "cell_type": "code",
   "execution_count": 4,
   "id": "f0f29f90",
   "metadata": {},
   "outputs": [
    {
     "data": {
      "text/plain": [
       "216"
      ]
     },
     "execution_count": 4,
     "metadata": {},
     "output_type": "execute_result"
    }
   ],
   "source": [
    "a = 6\n",
    "a*a*a"
   ]
  },
  {
   "cell_type": "code",
   "execution_count": 2,
   "id": "c1580309",
   "metadata": {},
   "outputs": [
    {
     "data": {
      "text/plain": [
       "0"
      ]
     },
     "execution_count": 2,
     "metadata": {},
     "output_type": "execute_result"
    }
   ],
   "source": [
    ">>> ['hi','how','are','u','david'].count('h')"
   ]
  },
  {
   "cell_type": "code",
   "execution_count": 5,
   "id": "40d4f8ba",
   "metadata": {},
   "outputs": [
    {
     "data": {
      "text/plain": [
       "('hi', 'how', 'are', 'u', 1)"
      ]
     },
     "execution_count": 5,
     "metadata": {},
     "output_type": "execute_result"
    }
   ],
   "source": [
    ">>> 'hi', 'how', 'are', 'u','david'.count('i')"
   ]
  },
  {
   "cell_type": "code",
   "execution_count": 6,
   "id": "e2310337",
   "metadata": {},
   "outputs": [
    {
     "data": {
      "text/plain": [
       "('hi', 'how', 'are', 'u', 0)"
      ]
     },
     "execution_count": 6,
     "metadata": {},
     "output_type": "execute_result"
    }
   ],
   "source": [
    ">>> 'hi', 'how', 'are', 'u','david'.count('w')"
   ]
  },
  {
   "cell_type": "code",
   "execution_count": 7,
   "id": "296a54c6",
   "metadata": {},
   "outputs": [
    {
     "data": {
      "text/plain": [
       "('hi', 'how', 'are', 'u', 0)"
      ]
     },
     "execution_count": 7,
     "metadata": {},
     "output_type": "execute_result"
    }
   ],
   "source": [
    ">>> 'hi', 'how', 'are', 'u', 'david'.count('o')"
   ]
  },
  {
   "cell_type": "code",
   "execution_count": 8,
   "id": "a6683ddd",
   "metadata": {},
   "outputs": [
    {
     "data": {
      "text/plain": [
       "0"
      ]
     },
     "execution_count": 8,
     "metadata": {},
     "output_type": "execute_result"
    }
   ],
   "source": [
    ">>> ['hi', 'how', 'are', 'u', 'david'].count('a')"
   ]
  },
  {
   "cell_type": "code",
   "execution_count": 9,
   "id": "23a9dd18",
   "metadata": {},
   "outputs": [
    {
     "data": {
      "text/plain": [
       "0"
      ]
     },
     "execution_count": 9,
     "metadata": {},
     "output_type": "execute_result"
    }
   ],
   "source": [
    ">>> ['hi', 'how', 'are', 'u', 'david'].count('r')"
   ]
  },
  {
   "cell_type": "code",
   "execution_count": 10,
   "id": "e1a4e52c",
   "metadata": {},
   "outputs": [
    {
     "data": {
      "text/plain": [
       "1"
      ]
     },
     "execution_count": 10,
     "metadata": {},
     "output_type": "execute_result"
    }
   ],
   "source": [
    ">>> ['hi', 'how', 'are', 'u', 'david'].count('u')"
   ]
  },
  {
   "cell_type": "code",
   "execution_count": 40,
   "id": "027a948b",
   "metadata": {},
   "outputs": [
    {
     "data": {
      "text/plain": [
       "0"
      ]
     },
     "execution_count": 40,
     "metadata": {},
     "output_type": "execute_result"
    }
   ],
   "source": [
    ">>> ['hi', 'how', 'are', 'u', 'david'].count('e')"
   ]
  },
  {
   "cell_type": "code",
   "execution_count": 45,
   "id": "2ea0ff93",
   "metadata": {},
   "outputs": [
    {
     "data": {
      "text/plain": [
       "0"
      ]
     },
     "execution_count": 45,
     "metadata": {},
     "output_type": "execute_result"
    }
   ],
   "source": [
    ">>> ['hi', 'how', 'are', 'u', 'david'].count('v')"
   ]
  },
  {
   "cell_type": "code",
   "execution_count": 60,
   "id": "7e27928e",
   "metadata": {},
   "outputs": [
    {
     "data": {
      "text/plain": [
       "3"
      ]
     },
     "execution_count": 60,
     "metadata": {},
     "output_type": "execute_result"
    }
   ],
   "source": [
    ">>> ['hi', 'how', 'are', 'u', 'd','d','o','d'].count('d')"
   ]
  },
  {
   "cell_type": "code",
   "execution_count": 17,
   "id": "1265ce36",
   "metadata": {},
   "outputs": [
    {
     "name": "stdout",
     "output_type": "stream",
     "text": [
      "['hi', 'how', 'are', 'u', 'david']\n"
     ]
    },
    {
     "data": {
      "text/plain": [
       "Counter({'hi': 1, 'how': 1, 'are': 1, 'u': 1, 'david': 1})"
      ]
     },
     "execution_count": 17,
     "metadata": {},
     "output_type": "execute_result"
    }
   ],
   "source": [
    "import collections\n",
    "from collections import Counter\n",
    "\n",
    "s = 'hi how are u david'\n",
    "\n",
    "words = s.split()\n",
    "print(words)\n",
    "Counter(words)"
   ]
  },
  {
   "cell_type": "code",
   "execution_count": 10,
   "id": "841b119d",
   "metadata": {},
   "outputs": [
    {
     "name": "stdout",
     "output_type": "stream",
     "text": [
      "['hi', 'how', 'are', 'u', 'david']\n"
     ]
    },
    {
     "data": {
      "text/plain": [
       "Counter({'hi': 1, 'how': 1, 'are': 1, 'u': 1, 'david': 1})"
      ]
     },
     "execution_count": 10,
     "metadata": {},
     "output_type": "execute_result"
    }
   ],
   "source": [
    "import collections\n",
    "\n",
    "from collections import Counter\n",
    "\n",
    "s = 'hi how are u david'\n",
    "\n",
    "words = s.split()\n",
    "print(words)\n",
    "Counter(words)"
   ]
  },
  {
   "cell_type": "code",
   "execution_count": 8,
   "id": "52764057",
   "metadata": {},
   "outputs": [
    {
     "name": "stdout",
     "output_type": "stream",
     "text": [
      "['hi', 'how', 'are', 'u', 'david']\n"
     ]
    },
    {
     "data": {
      "text/plain": [
       "Counter({'hi': 1, 'how': 1, 'are': 1, 'u': 1, 'david': 1})"
      ]
     },
     "execution_count": 8,
     "metadata": {},
     "output_type": "execute_result"
    }
   ],
   "source": [
    "import collections\n",
    "\n",
    "from collections import Counter\n",
    "\n",
    "s = 'hi how are u david'\n",
    "\n",
    "words = s.split()\n",
    "print(words)\n",
    "Counter(words)"
   ]
  },
  {
   "cell_type": "code",
   "execution_count": 10,
   "id": "e66d3fad",
   "metadata": {},
   "outputs": [
    {
     "name": "stdout",
     "output_type": "stream",
     "text": [
      "['How', 'many', 'times', 'does', 'each', 'word', 'show', 'up', 'in', 'this', 'sentence', 'word', 'times', 'each', 'each', 'word']\n"
     ]
    },
    {
     "data": {
      "text/plain": [
       "Counter({'How': 1,\n",
       "         'many': 1,\n",
       "         'times': 2,\n",
       "         'does': 1,\n",
       "         'each': 3,\n",
       "         'word': 3,\n",
       "         'show': 1,\n",
       "         'up': 1,\n",
       "         'in': 1,\n",
       "         'this': 1,\n",
       "         'sentence': 1})"
      ]
     },
     "execution_count": 10,
     "metadata": {},
     "output_type": "execute_result"
    }
   ],
   "source": [
    "import collections\n",
    "\n",
    "from collections import Counter\n",
    "\n",
    "s = 'How many times does each word show up in this sentence word times each each word'\n",
    "\n",
    "words = s.split()\n",
    "print(words)\n",
    "Counter(words)"
   ]
  },
  {
   "cell_type": "code",
   "execution_count": 11,
   "id": "69c50733",
   "metadata": {},
   "outputs": [
    {
     "data": {
      "text/plain": [
       "[('each', 3), ('word', 3)]"
      ]
     },
     "execution_count": 11,
     "metadata": {},
     "output_type": "execute_result"
    }
   ],
   "source": [
    "c = Counter(words)\n",
    "\n",
    "\n",
    "c.most_common(2)"
   ]
  },
  {
   "cell_type": "code",
   "execution_count": 10,
   "id": "519402d5",
   "metadata": {},
   "outputs": [
    {
     "data": {
      "text/plain": [
       "<object at 0x2c971b566e0>"
      ]
     },
     "execution_count": 10,
     "metadata": {},
     "output_type": "execute_result"
    }
   ],
   "source": [
    "import collections\n",
    "from collections import defaultdict\n",
    "\n",
    "d = defaultdict(object)\n",
    "d['one']"
   ]
  },
  {
   "cell_type": "code",
   "execution_count": 11,
   "id": "f88bd443",
   "metadata": {},
   "outputs": [
    {
     "name": "stdout",
     "output_type": "stream",
     "text": [
      "one\n"
     ]
    }
   ],
   "source": [
    "for item in d:\n",
    "    print(item)"
   ]
  },
  {
   "cell_type": "code",
   "execution_count": 12,
   "id": "f60c2a10",
   "metadata": {},
   "outputs": [
    {
     "data": {
      "text/plain": [
       "2"
      ]
     },
     "execution_count": 12,
     "metadata": {},
     "output_type": "execute_result"
    }
   ],
   "source": [
    "d = defaultdict(lambda:2)\n",
    "\n",
    "d['one']"
   ]
  },
  {
   "cell_type": "code",
   "execution_count": 13,
   "id": "401defe8",
   "metadata": {},
   "outputs": [
    {
     "name": "stdout",
     "output_type": "stream",
     "text": [
      "Hello world!\n"
     ]
    }
   ],
   "source": [
    "print(\"Hello world!\")"
   ]
  },
  {
   "cell_type": "code",
   "execution_count": 18,
   "id": "67ce4edd",
   "metadata": {},
   "outputs": [
    {
     "name": "stdout",
     "output_type": "stream",
     "text": [
      "Please Enter the first number:44\n",
      "Please Enter the second number:66\n",
      "The sum of 44 and 66 is 110\n"
     ]
    }
   ],
   "source": [
    "number1 = input('Please Enter the first number:')\n",
    "number2 = input('Please Enter the second number:')\n",
    "\n",
    "sum = int(number1)+ int(number2)\n",
    "print('The sum of {0} and {1} is {2}'.format(number1, number2, sum))"
   ]
  },
  {
   "cell_type": "code",
   "execution_count": 20,
   "id": "ec6d877c",
   "metadata": {},
   "outputs": [
    {
     "name": "stdout",
     "output_type": "stream",
     "text": [
      " Please Enter the First Value Number 1: 24\n",
      " Please Enter the Second Value Number 2: 46\n",
      "The Sum of 24 and 46 = 70\n",
      "The Subtraction of 46 from 24 = -22\n",
      "The Multiplication of 24 and 46 = 1104\n",
      "The Division of 24 and 46 = 0.5217391304347826\n",
      "The Modulus of 24 and 46 = 24\n",
      "The Exponent Value of 24 and 46 = 3088283198698664739250235405609677239488239408465248473868926976\n"
     ]
    }
   ],
   "source": [
    "num1 = int(input(\" Please Enter the First Value Number 1: \"))\n",
    "num2 = int(input(\" Please Enter the Second Value Number 2: \"))\n",
    "\n",
    "# Add Two Numbers\n",
    "add = num1 + num2\n",
    "\n",
    "# Subtracting num2 from num1\n",
    "sub = num1 - num2\n",
    "\n",
    "# Multiply num1 with num2\n",
    "multi = num1 * num2\n",
    "\n",
    "# Divide num1 by num2\n",
    "div = num1 / num2\n",
    "\n",
    "# Modulus of num1 and num2\n",
    "mod = num1 % num2\n",
    "\n",
    "# Exponent of num1 and num2\n",
    "expo = num1 ** num2\n",
    "\n",
    "print(\"The Sum of {0} and {1} = {2}\".format(num1, num2, add))\n",
    "print(\"The Subtraction of {0} from {1} = {2}\".format(num2, num1, sub))\n",
    "print(\"The Multiplication of {0} and {1} = {2}\".format(num1, num2, multi))\n",
    "print(\"The Division of {0} and {1} = {2}\".format(num1, num2, div))\n",
    "print(\"The Modulus of {0} and {1} = {2}\".format(num1, num2, mod))\n",
    "print(\"The Exponent Value of {0} and {1} = {2}\".format(num1, num2, expo))"
   ]
  },
  {
   "cell_type": "code",
   "execution_count": 24,
   "id": "499dde42",
   "metadata": {},
   "outputs": [
    {
     "name": "stdout",
     "output_type": "stream",
     "text": [
      "Please Enter Your Own String:AnshumanDev\n",
      "Total Number of Vowels in this String =  1\n",
      "Total Number of Vowels in this String =  2\n",
      "Total Number of Vowels in this String =  3\n",
      "Total Number of Vowels in this String =  4\n"
     ]
    }
   ],
   "source": [
    "str1 = input('Please Enter Your Own String:')\n",
    "vowels = 0\n",
    "\n",
    "for i in str1:\n",
    "     if(i == 'a' or i == 'e' or i == 'i' or i == 'o' or i == 'u' or i == 'A'\n",
    "       or i == 'E' or i == 'I' or i == 'O' or i == 'U'):\n",
    "            vowels = vowels+1\n",
    "            \n",
    "            print(\"Total Number of Vowels in this String = \", vowels)"
   ]
  },
  {
   "cell_type": "code",
   "execution_count": 26,
   "id": "16a89f92",
   "metadata": {},
   "outputs": [
    {
     "name": "stdout",
     "output_type": "stream",
     "text": [
      "Please Enter Your Own String : AnshumanSunnyDev\n",
      "Total Number of Vowels in this String =  4\n"
     ]
    }
   ],
   "source": [
    "str1 = input(\"Please Enter Your Own String : \")\n",
    "\n",
    "vowels = 0\n",
    "str1.lower()\n",
    "\n",
    "for i in str1:\n",
    "    if(i == 'a' or i == 'e' or i == 'i' or i == 'o' or i == 'u'):\n",
    "        vowels = vowels + 1\n",
    " \n",
    "print(\"Total Number of Vowels in this String = \", vowels)"
   ]
  },
  {
   "cell_type": "code",
   "execution_count": 3,
   "id": "aaa3d723",
   "metadata": {},
   "outputs": [
    {
     "name": "stdout",
     "output_type": "stream",
     "text": [
      "06:40:02.000005\n",
      "hour : 6\n",
      "minute : 40\n",
      "second : 2\n",
      "microsecond : 5\n",
      "Earliest : 00:00:00\n",
      "Latest : 23:59:59.999999\n",
      "Resolution : 0:00:00.000001\n"
     ]
    }
   ],
   "source": [
    "import datetime\n",
    "\n",
    "t = datetime.time(6, 40, 2, 5)\n",
    "\n",
    "#Let's show the different components\n",
    "print(t)\n",
    "print('hour :', t.hour)\n",
    "print('minute :', t.minute)\n",
    "print('second :', t.second)\n",
    "print('microsecond :',t.microsecond)\n",
    "\n",
    "print('Earliest :', datetime.time.min)\n",
    "print('Latest :', datetime.time.max)\n",
    "print('Resolution :', datetime.time.resolution)"
   ]
  },
  {
   "cell_type": "code",
   "execution_count": 3,
   "id": "5000605b",
   "metadata": {},
   "outputs": [
    {
     "name": "stdout",
     "output_type": "stream",
     "text": [
      "2022-02-27\n",
      "ctime: Sun Feb 27 00:00:00 2022\n",
      "year: 2022\n",
      "month: 2\n",
      "day: 27\n",
      "Earliest : 0001-01-01\n",
      "Latest : 9999-12-31\n",
      "Resolution : 1 day, 0:00:00\n"
     ]
    }
   ],
   "source": [
    "import datetime\n",
    "today = datetime.date.today()\n",
    "\n",
    "print(today)\n",
    "print('ctime:', today.ctime())\n",
    "print('year:', today.year)\n",
    "print('month:', today.month)\n",
    "print('day:', today.day)\n",
    "\n",
    "print('Earliest :', datetime.date.min)\n",
    "print('Latest :', datetime.date.max)\n",
    "print('Resolution :', datetime.date.resolution)"
   ]
  },
  {
   "cell_type": "code",
   "execution_count": 9,
   "id": "702769a6",
   "metadata": {},
   "outputs": [
    {
     "name": "stdout",
     "output_type": "stream",
     "text": [
      "d1: 2022-02-27\n",
      "Enter your replacing year2020\n",
      "d2: 2020-02-27\n"
     ]
    }
   ],
   "source": [
    "#Another way to create datetime's date method.\n",
    "d1 = datetime.date.today()\n",
    "print('d1:', d1)\n",
    "\n",
    "d2 = d1.replace(year)\n",
    "year = int(input('Enter your replacing year'))\n",
    "print('d2:', d2)"
   ]
  },
  {
   "cell_type": "code",
   "execution_count": null,
   "id": "d565cff6",
   "metadata": {},
   "outputs": [],
   "source": []
  }
 ],
 "metadata": {
  "kernelspec": {
   "display_name": "Python 3 (ipykernel)",
   "language": "python",
   "name": "python3"
  },
  "language_info": {
   "codemirror_mode": {
    "name": "ipython",
    "version": 3
   },
   "file_extension": ".py",
   "mimetype": "text/x-python",
   "name": "python",
   "nbconvert_exporter": "python",
   "pygments_lexer": "ipython3",
   "version": "3.9.7"
  }
 },
 "nbformat": 4,
 "nbformat_minor": 5
}
